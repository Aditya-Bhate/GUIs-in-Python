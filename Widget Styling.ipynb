{
 "cells": [
  {
   "cell_type": "markdown",
   "metadata": {},
   "source": [
    "# Widget Styling\n",
    "\n",
    "##### '''\n",
    "#### The layout attribute :- <br>\n",
    "\n",
    "    Jupyter interactive widgets have a layout attribute exposing a number of CSS properties that \n",
    "    impact how widgets are laid out. These properties map to the values of the CSS properties of\n",
    "    the same name (underscores being replaced with dashes), applied to the top DOM elements of the \n",
    "    corresponding widget.<br>\n",
    "\n",
    "#### => Sizes\n",
    "    ~height \n",
    "    ~width \n",
    "    ~max_height \n",
    "    ~max_width \n",
    "    ~min_height\n",
    "    ~min_width\n",
    "    \n",
    "#### => Display\n",
    "    ~visibility\n",
    "    ~display\n",
    "    ~overflow\n",
    "    ~overflow_x\n",
    "    ~overflow_y\n",
    "    \n",
    "#### => Box model\n",
    "    ~border\n",
    "    ~margin\n",
    "    ~padding\n",
    "    \n",
    "#### => Positioning\n",
    "    ~top\n",
    "    ~left\n",
    "    ~bottom\n",
    "    ~right\n",
    "    \n",
    "#### => Flexbox\n",
    "    ~order\n",
    "    ~flex_flow\n",
    "    ~align_items\n",
    "    ~flex\n",
    "    ~align_self\n",
    "    ~align_content\n",
    "    ~justify_content\n",
    "    \n",
    "##### '''"
   ]
  },
  {
   "cell_type": "markdown",
   "metadata": {},
   "source": [
    "### A quick example of layout"
   ]
  },
  {
   "cell_type": "code",
   "execution_count": 6,
   "metadata": {},
   "outputs": [
    {
     "data": {
      "application/vnd.jupyter.widget-view+json": {
       "model_id": "d83094f942334c278caa528269458f71",
       "version_major": 2,
       "version_minor": 0
      },
      "text/plain": [
       "IntSlider(value=0)"
      ]
     },
     "metadata": {},
     "output_type": "display_data"
    }
   ],
   "source": [
    "import ipywidgets as widgets\n",
    "from IPython.display import display\n",
    "\n",
    "w = widgets.IntSlider()\n",
    "display(w)"
   ]
  },
  {
   "cell_type": "code",
   "execution_count": 7,
   "metadata": {},
   "outputs": [],
   "source": [
    "w.layout.margin = 'auto'\n",
    "w.layout.height = '75px'"
   ]
  },
  {
   "cell_type": "code",
   "execution_count": 8,
   "metadata": {},
   "outputs": [
    {
     "data": {
      "application/vnd.jupyter.widget-view+json": {
       "model_id": "15698135578b4488bea9acfa3d20d58c",
       "version_major": 2,
       "version_minor": 0
      },
      "text/plain": [
       "IntSlider(value=15, description='New slider')"
      ]
     },
     "metadata": {},
     "output_type": "display_data"
    }
   ],
   "source": [
    "x = widgets.IntSlider(value=15,description='New slider')\n",
    "display(x)"
   ]
  },
  {
   "cell_type": "code",
   "execution_count": 9,
   "metadata": {},
   "outputs": [],
   "source": [
    "x.layout = w.layout"
   ]
  },
  {
   "cell_type": "markdown",
   "metadata": {},
   "source": [
    "## Predefined styles\n",
    "### '''\n",
    "Many widgets offer a list of pre-defined styles that can be passed as arguments during creation.\n",
    "\n",
    "For example, the Button widget has a button_style attribute that may take 5 different values:\n",
    "\n",
    "'primary'<br>\n",
    "'success'<br>\n",
    "'info'<br>\n",
    "'warning'<br>\n",
    "'danger'<br>\n",
    "\n",
    "Besides the default empty string ''.\n",
    "\n",
    "### '''"
   ]
  },
  {
   "cell_type": "code",
   "execution_count": 10,
   "metadata": {},
   "outputs": [
    {
     "data": {
      "application/vnd.jupyter.widget-view+json": {
       "model_id": "0d0a711d6f2747c4be98dbde8a2ab78e",
       "version_major": 2,
       "version_minor": 0
      },
      "text/plain": [
       "Button(description='Ordinary Button', style=ButtonStyle())"
      ]
     },
     "metadata": {},
     "output_type": "display_data"
    }
   ],
   "source": [
    "import ipywidgets as widgets\n",
    "\n",
    "widgets.Button(description='Ordinary Button', button_style='')"
   ]
  },
  {
   "cell_type": "code",
   "execution_count": 11,
   "metadata": {},
   "outputs": [
    {
     "data": {
      "application/vnd.jupyter.widget-view+json": {
       "model_id": "f0f42f1678694afcae282ac1192d5d41",
       "version_major": 2,
       "version_minor": 0
      },
      "text/plain": [
       "Button(button_style='danger', description='Danger Button', style=ButtonStyle())"
      ]
     },
     "metadata": {},
     "output_type": "display_data"
    }
   ],
   "source": [
    "widgets.Button(description='Danger Button', button_style='danger')"
   ]
  },
  {
   "cell_type": "code",
   "execution_count": 12,
   "metadata": {},
   "outputs": [
    {
     "data": {
      "application/vnd.jupyter.widget-view+json": {
       "model_id": "0efa86ddbd704669bf96ad5db455e23d",
       "version_major": 2,
       "version_minor": 0
      },
      "text/plain": [
       "Button(description='Custom color', style=ButtonStyle(button_color='lightgreen'))"
      ]
     },
     "metadata": {},
     "output_type": "display_data"
    }
   ],
   "source": [
    "# The style attribute\n",
    "\n",
    "b1 = widgets.Button(description='Custom color')\n",
    "b1.style.button_color = 'lightgreen'\n",
    "b1"
   ]
  },
  {
   "cell_type": "code",
   "execution_count": 13,
   "metadata": {},
   "outputs": [
    {
     "data": {
      "text/plain": [
       "['_model_module',\n",
       " '_model_module_version',\n",
       " '_model_name',\n",
       " '_view_count',\n",
       " '_view_module',\n",
       " '_view_module_version',\n",
       " '_view_name',\n",
       " 'button_color',\n",
       " 'font_weight']"
      ]
     },
     "execution_count": 13,
     "metadata": {},
     "output_type": "execute_result"
    }
   ],
   "source": [
    "b1.style.keys"
   ]
  },
  {
   "cell_type": "code",
   "execution_count": 14,
   "metadata": {},
   "outputs": [
    {
     "data": {
      "application/vnd.jupyter.widget-view+json": {
       "model_id": "f0cb2ae647c7445780c3e2d9272beb54",
       "version_major": 2,
       "version_minor": 0
      },
      "text/plain": [
       "Button(style=ButtonStyle(button_color='lightgreen'))"
      ]
     },
     "metadata": {},
     "output_type": "display_data"
    }
   ],
   "source": [
    "b2 = widgets.Button()\n",
    "b2.style = b1.style\n",
    "b2"
   ]
  },
  {
   "cell_type": "markdown",
   "metadata": {},
   "source": [
    "## Widget style traits\n",
    "\n",
    "### '''\n",
    "These are traits that belong to some of the more common widgets:\n",
    "\n",
    "#### => Button\n",
    "    ~button_color\n",
    "    ~font_weight\n",
    "    \n",
    "#### => IntSlider, FloatSlider, IntRangeSlider, FloatRangeSlider\n",
    "    ~description_width\n",
    "    ~handle_color\n",
    "    \n",
    "#### => IntProgress, FloatProgress\n",
    "    ~bar_color\n",
    "    ~description_width\n",
    "    \n",
    "Most others such as ToggleButton, Checkbox, Dropdown, RadioButtons, Select and Text only have \n",
    "description_width as an adjustable trait.\n",
    "\n",
    "### '''"
   ]
  }
 ],
 "metadata": {
  "kernelspec": {
   "display_name": "Python 3",
   "language": "python",
   "name": "python3"
  },
  "language_info": {
   "codemirror_mode": {
    "name": "ipython",
    "version": 3
   },
   "file_extension": ".py",
   "mimetype": "text/x-python",
   "name": "python",
   "nbconvert_exporter": "python",
   "pygments_lexer": "ipython3",
   "version": "3.8.8"
  }
 },
 "nbformat": 4,
 "nbformat_minor": 2
}
